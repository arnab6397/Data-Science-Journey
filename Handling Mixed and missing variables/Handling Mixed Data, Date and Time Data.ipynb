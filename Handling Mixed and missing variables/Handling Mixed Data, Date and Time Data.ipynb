{
 "cells": [
  {
   "cell_type": "markdown",
   "id": "87c22eef",
   "metadata": {},
   "source": [
    "# Handling mixed variables in columns"
   ]
  },
  {
   "cell_type": "markdown",
   "id": "84e61ca3",
   "metadata": {},
   "source": [
    "Sometimes real time data may contain both numerical and categorical data. Sometimes these columns contains alphanumeric characters.\n",
    "\n",
    "We basically split them into 2 columns:\n",
    "1. With the alphabets\n",
    "2. With the numerics\n",
    "\n",
    "Sometimes, the column can contain distinct numeric and alphabets.\n",
    "We create 2 columns in that case:\n",
    "1. with only the numerics, and alphabet column gets NA\n",
    "2. alphabets only in alphabet column, numerical column gets NA\n",
    "\n"
   ]
  },
  {
   "cell_type": "code",
   "execution_count": 1,
   "id": "1edb3777",
   "metadata": {},
   "outputs": [],
   "source": [
    "import numpy as np\n",
    "import pandas as pd\n",
    "from sklearn.model_selection import train_test_split,cross_val_score\n",
    "from sklearn.tree import DecisionTreeClassifier\n",
    "\n",
    "from sklearn.metrics import accuracy_score\n",
    "\n",
    "from sklearn.compose import ColumnTransformer\n",
    "import matplotlib.pyplot as plt"
   ]
  },
  {
   "cell_type": "code",
   "execution_count": 2,
   "id": "fbe4ed86",
   "metadata": {},
   "outputs": [
    {
     "data": {
      "text/plain": [
       "'/Users/arnabmaji/Documents/Documents/CSV Raw Data'"
      ]
     },
     "execution_count": 2,
     "metadata": {},
     "output_type": "execute_result"
    }
   ],
   "source": [
    "import os\n",
    "os.chdir('/Users/arnabmaji/Documents/Documents/CSV Raw Data')\n",
    "os.getcwd()"
   ]
  },
  {
   "cell_type": "code",
   "execution_count": 3,
   "id": "b0b58a57",
   "metadata": {},
   "outputs": [],
   "source": [
    "df = pd.read_csv('titanic.csv').reset_index(drop = True)"
   ]
  },
  {
   "cell_type": "code",
   "execution_count": 4,
   "id": "d63e381e",
   "metadata": {
    "scrolled": true
   },
   "outputs": [
    {
     "data": {
      "text/html": [
       "<div>\n",
       "<style scoped>\n",
       "    .dataframe tbody tr th:only-of-type {\n",
       "        vertical-align: middle;\n",
       "    }\n",
       "\n",
       "    .dataframe tbody tr th {\n",
       "        vertical-align: top;\n",
       "    }\n",
       "\n",
       "    .dataframe thead th {\n",
       "        text-align: right;\n",
       "    }\n",
       "</style>\n",
       "<table border=\"1\" class=\"dataframe\">\n",
       "  <thead>\n",
       "    <tr style=\"text-align: right;\">\n",
       "      <th></th>\n",
       "      <th>PassengerId</th>\n",
       "      <th>Survived</th>\n",
       "      <th>Pclass</th>\n",
       "      <th>Name</th>\n",
       "      <th>Sex</th>\n",
       "      <th>Age</th>\n",
       "      <th>SibSp</th>\n",
       "      <th>Parch</th>\n",
       "      <th>Ticket</th>\n",
       "      <th>Fare</th>\n",
       "      <th>Cabin</th>\n",
       "      <th>Embarked</th>\n",
       "    </tr>\n",
       "  </thead>\n",
       "  <tbody>\n",
       "    <tr>\n",
       "      <th>766</th>\n",
       "      <td>767</td>\n",
       "      <td>0</td>\n",
       "      <td>1</td>\n",
       "      <td>Brewe, Dr. Arthur Jackson</td>\n",
       "      <td>male</td>\n",
       "      <td>NaN</td>\n",
       "      <td>0</td>\n",
       "      <td>0</td>\n",
       "      <td>112379</td>\n",
       "      <td>39.6000</td>\n",
       "      <td>NaN</td>\n",
       "      <td>C</td>\n",
       "    </tr>\n",
       "    <tr>\n",
       "      <th>53</th>\n",
       "      <td>54</td>\n",
       "      <td>1</td>\n",
       "      <td>2</td>\n",
       "      <td>Faunthorpe, Mrs. Lizzie (Elizabeth Anne Wilkin...</td>\n",
       "      <td>female</td>\n",
       "      <td>29.0</td>\n",
       "      <td>1</td>\n",
       "      <td>0</td>\n",
       "      <td>2926</td>\n",
       "      <td>26.0000</td>\n",
       "      <td>NaN</td>\n",
       "      <td>S</td>\n",
       "    </tr>\n",
       "    <tr>\n",
       "      <th>565</th>\n",
       "      <td>566</td>\n",
       "      <td>0</td>\n",
       "      <td>3</td>\n",
       "      <td>Davies, Mr. Alfred J</td>\n",
       "      <td>male</td>\n",
       "      <td>24.0</td>\n",
       "      <td>2</td>\n",
       "      <td>0</td>\n",
       "      <td>A/4 48871</td>\n",
       "      <td>24.1500</td>\n",
       "      <td>NaN</td>\n",
       "      <td>S</td>\n",
       "    </tr>\n",
       "    <tr>\n",
       "      <th>52</th>\n",
       "      <td>53</td>\n",
       "      <td>1</td>\n",
       "      <td>1</td>\n",
       "      <td>Harper, Mrs. Henry Sleeper (Myna Haxtun)</td>\n",
       "      <td>female</td>\n",
       "      <td>49.0</td>\n",
       "      <td>1</td>\n",
       "      <td>0</td>\n",
       "      <td>PC 17572</td>\n",
       "      <td>76.7292</td>\n",
       "      <td>D33</td>\n",
       "      <td>C</td>\n",
       "    </tr>\n",
       "    <tr>\n",
       "      <th>677</th>\n",
       "      <td>678</td>\n",
       "      <td>1</td>\n",
       "      <td>3</td>\n",
       "      <td>Turja, Miss. Anna Sofia</td>\n",
       "      <td>female</td>\n",
       "      <td>18.0</td>\n",
       "      <td>0</td>\n",
       "      <td>0</td>\n",
       "      <td>4138</td>\n",
       "      <td>9.8417</td>\n",
       "      <td>NaN</td>\n",
       "      <td>S</td>\n",
       "    </tr>\n",
       "    <tr>\n",
       "      <th>142</th>\n",
       "      <td>143</td>\n",
       "      <td>1</td>\n",
       "      <td>3</td>\n",
       "      <td>Hakkarainen, Mrs. Pekka Pietari (Elin Matilda ...</td>\n",
       "      <td>female</td>\n",
       "      <td>24.0</td>\n",
       "      <td>1</td>\n",
       "      <td>0</td>\n",
       "      <td>STON/O2. 3101279</td>\n",
       "      <td>15.8500</td>\n",
       "      <td>NaN</td>\n",
       "      <td>S</td>\n",
       "    </tr>\n",
       "    <tr>\n",
       "      <th>653</th>\n",
       "      <td>654</td>\n",
       "      <td>1</td>\n",
       "      <td>3</td>\n",
       "      <td>O'Leary, Miss. Hanora \"Norah\"</td>\n",
       "      <td>female</td>\n",
       "      <td>NaN</td>\n",
       "      <td>0</td>\n",
       "      <td>0</td>\n",
       "      <td>330919</td>\n",
       "      <td>7.8292</td>\n",
       "      <td>NaN</td>\n",
       "      <td>Q</td>\n",
       "    </tr>\n",
       "    <tr>\n",
       "      <th>608</th>\n",
       "      <td>609</td>\n",
       "      <td>1</td>\n",
       "      <td>2</td>\n",
       "      <td>Laroche, Mrs. Joseph (Juliette Marie Louise La...</td>\n",
       "      <td>female</td>\n",
       "      <td>22.0</td>\n",
       "      <td>1</td>\n",
       "      <td>2</td>\n",
       "      <td>SC/Paris 2123</td>\n",
       "      <td>41.5792</td>\n",
       "      <td>NaN</td>\n",
       "      <td>C</td>\n",
       "    </tr>\n",
       "    <tr>\n",
       "      <th>889</th>\n",
       "      <td>890</td>\n",
       "      <td>1</td>\n",
       "      <td>1</td>\n",
       "      <td>Behr, Mr. Karl Howell</td>\n",
       "      <td>male</td>\n",
       "      <td>26.0</td>\n",
       "      <td>0</td>\n",
       "      <td>0</td>\n",
       "      <td>111369</td>\n",
       "      <td>30.0000</td>\n",
       "      <td>C148</td>\n",
       "      <td>C</td>\n",
       "    </tr>\n",
       "    <tr>\n",
       "      <th>748</th>\n",
       "      <td>749</td>\n",
       "      <td>0</td>\n",
       "      <td>1</td>\n",
       "      <td>Marvin, Mr. Daniel Warner</td>\n",
       "      <td>male</td>\n",
       "      <td>19.0</td>\n",
       "      <td>1</td>\n",
       "      <td>0</td>\n",
       "      <td>113773</td>\n",
       "      <td>53.1000</td>\n",
       "      <td>D30</td>\n",
       "      <td>S</td>\n",
       "    </tr>\n",
       "  </tbody>\n",
       "</table>\n",
       "</div>"
      ],
      "text/plain": [
       "     PassengerId  Survived  Pclass  \\\n",
       "766          767         0       1   \n",
       "53            54         1       2   \n",
       "565          566         0       3   \n",
       "52            53         1       1   \n",
       "677          678         1       3   \n",
       "142          143         1       3   \n",
       "653          654         1       3   \n",
       "608          609         1       2   \n",
       "889          890         1       1   \n",
       "748          749         0       1   \n",
       "\n",
       "                                                  Name     Sex   Age  SibSp  \\\n",
       "766                          Brewe, Dr. Arthur Jackson    male   NaN      0   \n",
       "53   Faunthorpe, Mrs. Lizzie (Elizabeth Anne Wilkin...  female  29.0      1   \n",
       "565                               Davies, Mr. Alfred J    male  24.0      2   \n",
       "52            Harper, Mrs. Henry Sleeper (Myna Haxtun)  female  49.0      1   \n",
       "677                            Turja, Miss. Anna Sofia  female  18.0      0   \n",
       "142  Hakkarainen, Mrs. Pekka Pietari (Elin Matilda ...  female  24.0      1   \n",
       "653                      O'Leary, Miss. Hanora \"Norah\"  female   NaN      0   \n",
       "608  Laroche, Mrs. Joseph (Juliette Marie Louise La...  female  22.0      1   \n",
       "889                              Behr, Mr. Karl Howell    male  26.0      0   \n",
       "748                          Marvin, Mr. Daniel Warner    male  19.0      1   \n",
       "\n",
       "     Parch            Ticket     Fare Cabin Embarked  \n",
       "766      0            112379  39.6000   NaN        C  \n",
       "53       0              2926  26.0000   NaN        S  \n",
       "565      0         A/4 48871  24.1500   NaN        S  \n",
       "52       0          PC 17572  76.7292   D33        C  \n",
       "677      0              4138   9.8417   NaN        S  \n",
       "142      0  STON/O2. 3101279  15.8500   NaN        S  \n",
       "653      0            330919   7.8292   NaN        Q  \n",
       "608      2     SC/Paris 2123  41.5792   NaN        C  \n",
       "889      0            111369  30.0000  C148        C  \n",
       "748      0            113773  53.1000   D30        S  "
      ]
     },
     "execution_count": 4,
     "metadata": {},
     "output_type": "execute_result"
    }
   ],
   "source": [
    "df.sample(10)"
   ]
  },
  {
   "cell_type": "code",
   "execution_count": 5,
   "id": "403bc32c",
   "metadata": {},
   "outputs": [],
   "source": [
    "# Converting the Ticket column to numeric column and bypassing all the errors as NaN value\n",
    "df['Ticket_numeric'] = pd.to_numeric(df['Ticket'],errors = 'coerce',downcast='signed')"
   ]
  },
  {
   "cell_type": "code",
   "execution_count": 6,
   "id": "5775c7a6",
   "metadata": {},
   "outputs": [],
   "source": [
    "# Wherever the Ticket_numeric column came out null i.e. string values, we are replacing them with the value of the old column else NaN\n",
    "df['Ticket_categorical'] = np.where(df['Ticket_numeric'].isnull(),df['Ticket'],np.NaN)"
   ]
  },
  {
   "cell_type": "code",
   "execution_count": 7,
   "id": "3daebb16",
   "metadata": {},
   "outputs": [],
   "source": [
    "# Creating a new column with the numerical part of the columns using str.extract and regular expressions\n",
    "df['Cabin_numeric'] = df['Cabin'].str.extract('(\\d+)')\n",
    "df['Cabin_categorical'] = df['Cabin'].str[0]"
   ]
  },
  {
   "cell_type": "code",
   "execution_count": 8,
   "id": "a47c82de",
   "metadata": {},
   "outputs": [
    {
     "data": {
      "text/plain": [
       "<AxesSubplot:>"
      ]
     },
     "execution_count": 8,
     "metadata": {},
     "output_type": "execute_result"
    },
    {
     "data": {
      "image/png": "[encoded data removed]",
      "text/plain": [
       "<Figure size 432x288 with 1 Axes>"
      ]
     },
     "metadata": {
      "needs_background": "light"
     },
     "output_type": "display_data"
    }
   ],
   "source": [
    "df['Cabin_categorical'].value_counts().plot(kind = 'bar')"
   ]
  },
  {
   "cell_type": "code",
   "execution_count": 9,
   "id": "404fc475",
   "metadata": {},
   "outputs": [],
   "source": [
    "# Splitting the column based on empty space\n",
    "df['Ticket_numeric'] = df['Ticket'].apply(lambda s: s.split(' ')[-1])\n",
    "# Converting column to numeric\n",
    "df['Ticket_numeric'] = pd.to_numeric(df['Ticket_numeric'], errors = 'coerce', downcast = 'integer')"
   ]
  },
  {
   "cell_type": "code",
   "execution_count": 10,
   "id": "965ae160",
   "metadata": {},
   "outputs": [],
   "source": [
    "# Splitting the column based on empty space\n",
    "df['Ticket_categorical'] = df['Ticket'].apply(lambda s: s.split(' ')[0])\n",
    "# Wherever the data is numeric, replacing that with NaN\n",
    "df['Ticket_categorical'] = np.where(df['Ticket_categorical'].str.isdigit(),np.NaN,df['Ticket_categorical'])"
   ]
  },
  {
   "cell_type": "markdown",
   "id": "e53dd94f",
   "metadata": {},
   "source": [
    "# Handling Date and Time variables in columns"
   ]
  },
  {
   "cell_type": "raw",
   "id": "7cf462cb",
   "metadata": {},
   "source": [
    "Pandas by default keeps the date column as an object/ string. We need to convert these."
   ]
  },
  {
   "cell_type": "code",
   "execution_count": 11,
   "id": "9fd2fe5c",
   "metadata": {},
   "outputs": [],
   "source": [
    "df_date = pd.read_csv('DateFunctions.csv')"
   ]
  },
  {
   "cell_type": "code",
   "execution_count": 12,
   "id": "cc534e6d",
   "metadata": {},
   "outputs": [
    {
     "name": "stdout",
     "output_type": "stream",
     "text": [
      "<class 'pandas.core.frame.DataFrame'>\n",
      "RangeIndex: 1000 entries, 0 to 999\n",
      "Data columns (total 4 columns):\n",
      " #   Column      Non-Null Count  Dtype \n",
      "---  ------      --------------  ----- \n",
      " 0   date        1000 non-null   object\n",
      " 1   product_id  1000 non-null   int64 \n",
      " 2   city_id     1000 non-null   int64 \n",
      " 3   orders      1000 non-null   int64 \n",
      "dtypes: int64(3), object(1)\n",
      "memory usage: 31.4+ KB\n"
     ]
    }
   ],
   "source": [
    "df_date.info()"
   ]
  },
  {
   "cell_type": "code",
   "execution_count": 13,
   "id": "40f4f746",
   "metadata": {},
   "outputs": [],
   "source": [
    "df_date['date'] = pd.to_datetime(df_date['date'])"
   ]
  },
  {
   "cell_type": "code",
   "execution_count": 14,
   "id": "3327c8a7",
   "metadata": {},
   "outputs": [
    {
     "data": {
      "text/html": [
       "<div>\n",
       "<style scoped>\n",
       "    .dataframe tbody tr th:only-of-type {\n",
       "        vertical-align: middle;\n",
       "    }\n",
       "\n",
       "    .dataframe tbody tr th {\n",
       "        vertical-align: top;\n",
       "    }\n",
       "\n",
       "    .dataframe thead th {\n",
       "        text-align: right;\n",
       "    }\n",
       "</style>\n",
       "<table border=\"1\" class=\"dataframe\">\n",
       "  <thead>\n",
       "    <tr style=\"text-align: right;\">\n",
       "      <th></th>\n",
       "      <th>date</th>\n",
       "      <th>product_id</th>\n",
       "      <th>city_id</th>\n",
       "      <th>orders</th>\n",
       "    </tr>\n",
       "  </thead>\n",
       "  <tbody>\n",
       "    <tr>\n",
       "      <th>0</th>\n",
       "      <td>2019-10-12</td>\n",
       "      <td>5628</td>\n",
       "      <td>25</td>\n",
       "      <td>3</td>\n",
       "    </tr>\n",
       "    <tr>\n",
       "      <th>1</th>\n",
       "      <td>2018-08-15</td>\n",
       "      <td>3646</td>\n",
       "      <td>14</td>\n",
       "      <td>157</td>\n",
       "    </tr>\n",
       "    <tr>\n",
       "      <th>2</th>\n",
       "      <td>2018-10-23</td>\n",
       "      <td>1859</td>\n",
       "      <td>25</td>\n",
       "      <td>1</td>\n",
       "    </tr>\n",
       "    <tr>\n",
       "      <th>3</th>\n",
       "      <td>2019-08-17</td>\n",
       "      <td>7292</td>\n",
       "      <td>25</td>\n",
       "      <td>1</td>\n",
       "    </tr>\n",
       "    <tr>\n",
       "      <th>4</th>\n",
       "      <td>2019-06-01</td>\n",
       "      <td>4344</td>\n",
       "      <td>25</td>\n",
       "      <td>3</td>\n",
       "    </tr>\n",
       "    <tr>\n",
       "      <th>...</th>\n",
       "      <td>...</td>\n",
       "      <td>...</td>\n",
       "      <td>...</td>\n",
       "      <td>...</td>\n",
       "    </tr>\n",
       "    <tr>\n",
       "      <th>995</th>\n",
       "      <td>2018-08-10</td>\n",
       "      <td>255</td>\n",
       "      <td>13</td>\n",
       "      <td>1</td>\n",
       "    </tr>\n",
       "    <tr>\n",
       "      <th>996</th>\n",
       "      <td>2018-06-12</td>\n",
       "      <td>5521</td>\n",
       "      <td>7</td>\n",
       "      <td>1</td>\n",
       "    </tr>\n",
       "    <tr>\n",
       "      <th>997</th>\n",
       "      <td>2019-07-05</td>\n",
       "      <td>487</td>\n",
       "      <td>26</td>\n",
       "      <td>14</td>\n",
       "    </tr>\n",
       "    <tr>\n",
       "      <th>998</th>\n",
       "      <td>2019-03-03</td>\n",
       "      <td>1503</td>\n",
       "      <td>21</td>\n",
       "      <td>2</td>\n",
       "    </tr>\n",
       "    <tr>\n",
       "      <th>999</th>\n",
       "      <td>2019-10-15</td>\n",
       "      <td>6371</td>\n",
       "      <td>7</td>\n",
       "      <td>22</td>\n",
       "    </tr>\n",
       "  </tbody>\n",
       "</table>\n",
       "<p>1000 rows × 4 columns</p>\n",
       "</div>"
      ],
      "text/plain": [
       "          date  product_id  city_id  orders\n",
       "0   2019-10-12        5628       25       3\n",
       "1   2018-08-15        3646       14     157\n",
       "2   2018-10-23        1859       25       1\n",
       "3   2019-08-17        7292       25       1\n",
       "4   2019-06-01        4344       25       3\n",
       "..         ...         ...      ...     ...\n",
       "995 2018-08-10         255       13       1\n",
       "996 2018-06-12        5521        7       1\n",
       "997 2019-07-05         487       26      14\n",
       "998 2019-03-03        1503       21       2\n",
       "999 2019-10-15        6371        7      22\n",
       "\n",
       "[1000 rows x 4 columns]"
      ]
     },
     "execution_count": 14,
     "metadata": {},
     "output_type": "execute_result"
    }
   ],
   "source": [
    "df_date"
   ]
  },
  {
   "cell_type": "code",
   "execution_count": 15,
   "id": "dead2300",
   "metadata": {},
   "outputs": [],
   "source": [
    "# Getting year column\n",
    "df_date['year'] = df_date['date'].dt.year "
   ]
  },
  {
   "cell_type": "code",
   "execution_count": 16,
   "id": "dd254e39",
   "metadata": {},
   "outputs": [],
   "source": [
    "# Getting month column\n",
    "df_date['month'] = df_date['date'].dt.month "
   ]
  },
  {
   "cell_type": "code",
   "execution_count": 17,
   "id": "5be3bd33",
   "metadata": {},
   "outputs": [],
   "source": [
    "# Getting month_name column\n",
    "df_date['month_name'] = df_date['date'].dt.month_name()"
   ]
  },
  {
   "cell_type": "code",
   "execution_count": 18,
   "id": "281a6710",
   "metadata": {},
   "outputs": [],
   "source": [
    "# Getting month column\n",
    "df_date['day'] = df_date['date'].dt.day "
   ]
  },
  {
   "cell_type": "code",
   "execution_count": 19,
   "id": "b4d502f0",
   "metadata": {},
   "outputs": [],
   "source": [
    "# Getting day_of_week column\n",
    "df_date['day_of_week'] = df_date['date'].dt.dayofweek "
   ]
  },
  {
   "cell_type": "code",
   "execution_count": 20,
   "id": "81f9dd43",
   "metadata": {},
   "outputs": [],
   "source": [
    "# Getting day_of_week_name column\n",
    "df_date['day_of_week_name'] = df_date['date'].dt.day_name()"
   ]
  },
  {
   "cell_type": "code",
   "execution_count": 21,
   "id": "2980a838",
   "metadata": {},
   "outputs": [
    {
     "name": "stderr",
     "output_type": "stream",
     "text": [
      "/var/folders/sf/b_0tzfjj78l7hl5p3f6nz3g40000gn/T/ipykernel_9729/4250981984.py:2: FutureWarning: Series.dt.weekofyear and Series.dt.week have been deprecated.  Please use Series.dt.isocalendar().week instead.\n",
      "  df_date['week_of_the_year'] = df_date['date'].dt.week\n"
     ]
    }
   ],
   "source": [
    "# Getting week of the year column\n",
    "df_date['week_of_the_year'] = df_date['date'].dt.week"
   ]
  },
  {
   "cell_type": "code",
   "execution_count": 22,
   "id": "f35b107a",
   "metadata": {},
   "outputs": [],
   "source": [
    "# Getting quarter of the year column\n",
    "df_date['quarter'] = df_date['date'].dt.quarter"
   ]
  },
  {
   "cell_type": "code",
   "execution_count": 23,
   "id": "77f3c2aa",
   "metadata": {},
   "outputs": [],
   "source": [
    "import datetime\n",
    "\n",
    "today = datetime.datetime.today()"
   ]
  },
  {
   "cell_type": "code",
   "execution_count": 24,
   "id": "66732d97",
   "metadata": {},
   "outputs": [
    {
     "data": {
      "text/plain": [
       "datetime.datetime(2022, 7, 1, 12, 15, 40, 352827)"
      ]
     },
     "execution_count": 24,
     "metadata": {},
     "output_type": "execute_result"
    }
   ],
   "source": [
    "today"
   ]
  },
  {
   "cell_type": "code",
   "execution_count": 25,
   "id": "491a9fef",
   "metadata": {},
   "outputs": [
    {
     "data": {
      "text/plain": [
       "0       993\n",
       "1      1416\n",
       "2      1347\n",
       "3      1049\n",
       "4      1126\n",
       "       ... \n",
       "995    1421\n",
       "996    1480\n",
       "997    1092\n",
       "998    1216\n",
       "999     990\n",
       "Name: date, Length: 1000, dtype: int64"
      ]
     },
     "execution_count": 25,
     "metadata": {},
     "output_type": "execute_result"
    }
   ],
   "source": [
    "(today-df_date['date']).dt.days"
   ]
  },
  {
   "cell_type": "markdown",
   "id": "0eca8699",
   "metadata": {},
   "source": [
    "# Handling missing data"
   ]
  },
  {
   "cell_type": "markdown",
   "id": "d7876bc5",
   "metadata": {},
   "source": [
    "One of the measures taken to handle missing data is to remove the entire row containing the missing records. Else, we fill those places where the column is null."
   ]
  },
  {
   "cell_type": "raw",
   "id": "e1e80053",
   "metadata": {},
   "source": [
    "If the column is numerical, we fill with mean, median, random value or end of distribution.\n",
    "If the column is categorical, we fill with mode, \"missing\" flag"
   ]
  },
  {
   "cell_type": "raw",
   "id": "7cf75b70",
   "metadata": {},
   "source": [
    "Multiple Imputation: \n",
    "    1. KNN Imputer\n",
    "    2. Iterative Imputer\n",
    "    3. Missing Indicator"
   ]
  },
  {
   "cell_type": "raw",
   "id": "e3dd5cdf",
   "metadata": {},
   "source": [
    "Removing missing values is called as complete case analysis (cca) also called list wise deletion of cases includes discarding the tuple with null values.\n",
    "Assuptions:\n",
    "1. Data is missing completely at random (MCAR)\n",
    "\n",
    "Advantage:\n",
    "1. Easy application\n",
    "2. Distribution remains the same\n",
    "\n",
    "Disadvantage:\n",
    "1. Data scarcity\n",
    "2. Model in production will not know what to do with missing data\n",
    "\n",
    "Thumb Rule:\n",
    "If any column has >5% of data missing, you cannot apply cca\n"
   ]
  },
  {
   "cell_type": "code",
   "execution_count": 26,
   "id": "8ab07ca9",
   "metadata": {},
   "outputs": [],
   "source": [
    "ds_job = pd.read_csv('data_science_jobs.csv')"
   ]
  },
  {
   "cell_type": "code",
   "execution_count": 27,
   "id": "b05a339b",
   "metadata": {},
   "outputs": [
    {
     "data": {
      "text/html": [
       "<div>\n",
       "<style scoped>\n",
       "    .dataframe tbody tr th:only-of-type {\n",
       "        vertical-align: middle;\n",
       "    }\n",
       "\n",
       "    .dataframe tbody tr th {\n",
       "        vertical-align: top;\n",
       "    }\n",
       "\n",
       "    .dataframe thead th {\n",
       "        text-align: right;\n",
       "    }\n",
       "</style>\n",
       "<table border=\"1\" class=\"dataframe\">\n",
       "  <thead>\n",
       "    <tr style=\"text-align: right;\">\n",
       "      <th></th>\n",
       "      <th>enrollee_id</th>\n",
       "      <th>city</th>\n",
       "      <th>city_development_index</th>\n",
       "      <th>gender</th>\n",
       "      <th>relevent_experience</th>\n",
       "      <th>enrolled_university</th>\n",
       "      <th>education_level</th>\n",
       "      <th>major_discipline</th>\n",
       "      <th>experience</th>\n",
       "      <th>company_size</th>\n",
       "      <th>company_type</th>\n",
       "      <th>training_hours</th>\n",
       "      <th>target</th>\n",
       "    </tr>\n",
       "  </thead>\n",
       "  <tbody>\n",
       "    <tr>\n",
       "      <th>12253</th>\n",
       "      <td>9043</td>\n",
       "      <td>city_11</td>\n",
       "      <td>0.550</td>\n",
       "      <td>Male</td>\n",
       "      <td>Has relevent experience</td>\n",
       "      <td>no_enrollment</td>\n",
       "      <td>Graduate</td>\n",
       "      <td>STEM</td>\n",
       "      <td>8.0</td>\n",
       "      <td>50-99</td>\n",
       "      <td>Pvt Ltd</td>\n",
       "      <td>44.0</td>\n",
       "      <td>1</td>\n",
       "    </tr>\n",
       "    <tr>\n",
       "      <th>15307</th>\n",
       "      <td>11383</td>\n",
       "      <td>city_103</td>\n",
       "      <td>0.920</td>\n",
       "      <td>Male</td>\n",
       "      <td>No relevent experience</td>\n",
       "      <td>no_enrollment</td>\n",
       "      <td>Primary School</td>\n",
       "      <td>NaN</td>\n",
       "      <td>4.0</td>\n",
       "      <td>NaN</td>\n",
       "      <td>NaN</td>\n",
       "      <td>200.0</td>\n",
       "      <td>0</td>\n",
       "    </tr>\n",
       "    <tr>\n",
       "      <th>4669</th>\n",
       "      <td>14020</td>\n",
       "      <td>city_1</td>\n",
       "      <td>0.847</td>\n",
       "      <td>Male</td>\n",
       "      <td>Has relevent experience</td>\n",
       "      <td>no_enrollment</td>\n",
       "      <td>Masters</td>\n",
       "      <td>STEM</td>\n",
       "      <td>10.0</td>\n",
       "      <td>50-99</td>\n",
       "      <td>Pvt Ltd</td>\n",
       "      <td>59.0</td>\n",
       "      <td>0</td>\n",
       "    </tr>\n",
       "    <tr>\n",
       "      <th>9310</th>\n",
       "      <td>23011</td>\n",
       "      <td>city_103</td>\n",
       "      <td>0.920</td>\n",
       "      <td>NaN</td>\n",
       "      <td>Has relevent experience</td>\n",
       "      <td>no_enrollment</td>\n",
       "      <td>Graduate</td>\n",
       "      <td>STEM</td>\n",
       "      <td>12.0</td>\n",
       "      <td>50-99</td>\n",
       "      <td>Pvt Ltd</td>\n",
       "      <td>58.0</td>\n",
       "      <td>0</td>\n",
       "    </tr>\n",
       "    <tr>\n",
       "      <th>9509</th>\n",
       "      <td>12149</td>\n",
       "      <td>city_103</td>\n",
       "      <td>0.920</td>\n",
       "      <td>Male</td>\n",
       "      <td>Has relevent experience</td>\n",
       "      <td>no_enrollment</td>\n",
       "      <td>Graduate</td>\n",
       "      <td>Humanities</td>\n",
       "      <td>11.0</td>\n",
       "      <td>NaN</td>\n",
       "      <td>Pvt Ltd</td>\n",
       "      <td>48.0</td>\n",
       "      <td>0</td>\n",
       "    </tr>\n",
       "    <tr>\n",
       "      <th>2360</th>\n",
       "      <td>1640</td>\n",
       "      <td>city_103</td>\n",
       "      <td>0.920</td>\n",
       "      <td>Male</td>\n",
       "      <td>No relevent experience</td>\n",
       "      <td>no_enrollment</td>\n",
       "      <td>Primary School</td>\n",
       "      <td>NaN</td>\n",
       "      <td>4.0</td>\n",
       "      <td>NaN</td>\n",
       "      <td>NaN</td>\n",
       "      <td>30.0</td>\n",
       "      <td>0</td>\n",
       "    </tr>\n",
       "    <tr>\n",
       "      <th>7312</th>\n",
       "      <td>28857</td>\n",
       "      <td>city_114</td>\n",
       "      <td>0.926</td>\n",
       "      <td>Male</td>\n",
       "      <td>Has relevent experience</td>\n",
       "      <td>no_enrollment</td>\n",
       "      <td>High School</td>\n",
       "      <td>NaN</td>\n",
       "      <td>11.0</td>\n",
       "      <td>Oct-49</td>\n",
       "      <td>Pvt Ltd</td>\n",
       "      <td>NaN</td>\n",
       "      <td>1</td>\n",
       "    </tr>\n",
       "    <tr>\n",
       "      <th>15695</th>\n",
       "      <td>1837</td>\n",
       "      <td>city_75</td>\n",
       "      <td>0.939</td>\n",
       "      <td>NaN</td>\n",
       "      <td>Has relevent experience</td>\n",
       "      <td>Part time course</td>\n",
       "      <td>High School</td>\n",
       "      <td>NaN</td>\n",
       "      <td>20.0</td>\n",
       "      <td>Oct-49</td>\n",
       "      <td>Pvt Ltd</td>\n",
       "      <td>51.0</td>\n",
       "      <td>0</td>\n",
       "    </tr>\n",
       "    <tr>\n",
       "      <th>16223</th>\n",
       "      <td>1038</td>\n",
       "      <td>city_16</td>\n",
       "      <td>0.910</td>\n",
       "      <td>NaN</td>\n",
       "      <td>Has relevent experience</td>\n",
       "      <td>no_enrollment</td>\n",
       "      <td>Graduate</td>\n",
       "      <td>STEM</td>\n",
       "      <td>13.0</td>\n",
       "      <td>&lt;10</td>\n",
       "      <td>Pvt Ltd</td>\n",
       "      <td>24.0</td>\n",
       "      <td>0</td>\n",
       "    </tr>\n",
       "    <tr>\n",
       "      <th>5674</th>\n",
       "      <td>20355</td>\n",
       "      <td>city_21</td>\n",
       "      <td>0.624</td>\n",
       "      <td>NaN</td>\n",
       "      <td>Has relevent experience</td>\n",
       "      <td>no_enrollment</td>\n",
       "      <td>Graduate</td>\n",
       "      <td>STEM</td>\n",
       "      <td>11.0</td>\n",
       "      <td>100-500</td>\n",
       "      <td>Pvt Ltd</td>\n",
       "      <td>106.0</td>\n",
       "      <td>1</td>\n",
       "    </tr>\n",
       "  </tbody>\n",
       "</table>\n",
       "</div>"
      ],
      "text/plain": [
       "       enrollee_id      city  city_development_index gender  \\\n",
       "12253         9043   city_11                   0.550   Male   \n",
       "15307        11383  city_103                   0.920   Male   \n",
       "4669         14020    city_1                   0.847   Male   \n",
       "9310         23011  city_103                   0.920    NaN   \n",
       "9509         12149  city_103                   0.920   Male   \n",
       "2360          1640  city_103                   0.920   Male   \n",
       "7312         28857  city_114                   0.926   Male   \n",
       "15695         1837   city_75                   0.939    NaN   \n",
       "16223         1038   city_16                   0.910    NaN   \n",
       "5674         20355   city_21                   0.624    NaN   \n",
       "\n",
       "           relevent_experience enrolled_university education_level  \\\n",
       "12253  Has relevent experience       no_enrollment        Graduate   \n",
       "15307   No relevent experience       no_enrollment  Primary School   \n",
       "4669   Has relevent experience       no_enrollment         Masters   \n",
       "9310   Has relevent experience       no_enrollment        Graduate   \n",
       "9509   Has relevent experience       no_enrollment        Graduate   \n",
       "2360    No relevent experience       no_enrollment  Primary School   \n",
       "7312   Has relevent experience       no_enrollment     High School   \n",
       "15695  Has relevent experience    Part time course     High School   \n",
       "16223  Has relevent experience       no_enrollment        Graduate   \n",
       "5674   Has relevent experience       no_enrollment        Graduate   \n",
       "\n",
       "      major_discipline  experience company_size company_type  training_hours  \\\n",
       "12253             STEM         8.0        50-99      Pvt Ltd            44.0   \n",
       "15307              NaN         4.0          NaN          NaN           200.0   \n",
       "4669              STEM        10.0        50-99      Pvt Ltd            59.0   \n",
       "9310              STEM        12.0        50-99      Pvt Ltd            58.0   \n",
       "9509        Humanities        11.0          NaN      Pvt Ltd            48.0   \n",
       "2360               NaN         4.0          NaN          NaN            30.0   \n",
       "7312               NaN        11.0       Oct-49      Pvt Ltd             NaN   \n",
       "15695              NaN        20.0       Oct-49      Pvt Ltd            51.0   \n",
       "16223             STEM        13.0          <10      Pvt Ltd            24.0   \n",
       "5674              STEM        11.0      100-500      Pvt Ltd           106.0   \n",
       "\n",
       "       target  \n",
       "12253       1  \n",
       "15307       0  \n",
       "4669        0  \n",
       "9310        0  \n",
       "9509        0  \n",
       "2360        0  \n",
       "7312        1  \n",
       "15695       0  \n",
       "16223       0  \n",
       "5674        1  "
      ]
     },
     "execution_count": 27,
     "metadata": {},
     "output_type": "execute_result"
    }
   ],
   "source": [
    "ds_job.sample(10)"
   ]
  },
  {
   "cell_type": "code",
   "execution_count": 28,
   "id": "706a92af",
   "metadata": {},
   "outputs": [
    {
     "data": {
      "text/plain": [
       "enrollee_id                  0\n",
       "city                         0\n",
       "city_development_index     479\n",
       "gender                    4508\n",
       "relevent_experience          0\n",
       "enrolled_university        386\n",
       "education_level            460\n",
       "major_discipline          2813\n",
       "experience                  65\n",
       "company_size              5938\n",
       "company_type              6140\n",
       "training_hours             766\n",
       "target                       0\n",
       "dtype: int64"
      ]
     },
     "execution_count": 28,
     "metadata": {},
     "output_type": "execute_result"
    }
   ],
   "source": [
    "ds_job.isnull().sum()"
   ]
  },
  {
   "cell_type": "code",
   "execution_count": 29,
   "id": "47305a36",
   "metadata": {},
   "outputs": [
    {
     "data": {
      "text/plain": [
       "enrollee_id                0.000000\n",
       "city                       0.000000\n",
       "city_development_index     2.500261\n",
       "gender                    23.530640\n",
       "relevent_experience        0.000000\n",
       "enrolled_university        2.014824\n",
       "education_level            2.401086\n",
       "major_discipline          14.683161\n",
       "experience                 0.339284\n",
       "company_size              30.994885\n",
       "company_type              32.049274\n",
       "training_hours             3.998330\n",
       "target                     0.000000\n",
       "dtype: float64"
      ]
     },
     "execution_count": 29,
     "metadata": {},
     "output_type": "execute_result"
    }
   ],
   "source": [
    "# Missing Data % per column\n",
    "ds_job.isnull().mean()*100"
   ]
  },
  {
   "cell_type": "raw",
   "id": "5a7d69d8",
   "metadata": {},
   "source": [
    "We cannot apply cca on every column, that would lead to data loss. \n",
    "We only apply cca on the columns with <5% nulls"
   ]
  },
  {
   "cell_type": "code",
   "execution_count": 30,
   "id": "c7c1977e",
   "metadata": {},
   "outputs": [],
   "source": [
    "# Getting the list of columns with <5% and >0% Nulls to run cca\n",
    "cols = [var for var in ds_job.columns if ds_job[var].isnull().mean() < 0.05 and ds_job[var].isnull().mean() > 0]"
   ]
  },
  {
   "cell_type": "code",
   "execution_count": 31,
   "id": "3c2b2294",
   "metadata": {},
   "outputs": [
    {
     "data": {
      "text/plain": [
       "['city_development_index',\n",
       " 'enrolled_university',\n",
       " 'education_level',\n",
       " 'experience',\n",
       " 'training_hours']"
      ]
     },
     "execution_count": 31,
     "metadata": {},
     "output_type": "execute_result"
    }
   ],
   "source": [
    "cols"
   ]
  },
  {
   "cell_type": "code",
   "execution_count": 32,
   "id": "fd734c93",
   "metadata": {},
   "outputs": [
    {
     "data": {
      "text/plain": [
       "0.8968577095730244"
      ]
     },
     "execution_count": 32,
     "metadata": {},
     "output_type": "execute_result"
    }
   ],
   "source": [
    "# Out of total records, we will have 89% records remaining\n",
    "len(ds_job[cols].dropna())/len(ds_job)"
   ]
  },
  {
   "cell_type": "code",
   "execution_count": 33,
   "id": "8430f327",
   "metadata": {},
   "outputs": [
    {
     "data": {
      "text/plain": [
       "<AxesSubplot:>"
      ]
     },
     "execution_count": 33,
     "metadata": {},
     "output_type": "execute_result"
    },
    {
     "data": {
      "image/png": "[encoded data removed]",
      "text/plain": [
       "<Figure size 432x288 with 1 Axes>"
      ]
     },
     "metadata": {
      "needs_background": "light"
     },
     "output_type": "display_data"
    }
   ],
   "source": [
    "ds_job[cols].isnull().sum().plot(kind = 'bar')"
   ]
  },
  {
   "cell_type": "code",
   "execution_count": 34,
   "id": "70a756ce",
   "metadata": {},
   "outputs": [],
   "source": [
    "ds_job_dropnull = ds_job[cols].dropna()"
   ]
  },
  {
   "cell_type": "code",
   "execution_count": 35,
   "id": "5d3dcbfa",
   "metadata": {},
   "outputs": [
    {
     "data": {
      "text/html": [
       "<div>\n",
       "<style scoped>\n",
       "    .dataframe tbody tr th:only-of-type {\n",
       "        vertical-align: middle;\n",
       "    }\n",
       "\n",
       "    .dataframe tbody tr th {\n",
       "        vertical-align: top;\n",
       "    }\n",
       "\n",
       "    .dataframe thead th {\n",
       "        text-align: right;\n",
       "    }\n",
       "</style>\n",
       "<table border=\"1\" class=\"dataframe\">\n",
       "  <thead>\n",
       "    <tr style=\"text-align: right;\">\n",
       "      <th></th>\n",
       "      <th>city_development_index</th>\n",
       "      <th>enrolled_university</th>\n",
       "      <th>education_level</th>\n",
       "      <th>experience</th>\n",
       "      <th>training_hours</th>\n",
       "    </tr>\n",
       "  </thead>\n",
       "  <tbody>\n",
       "    <tr>\n",
       "      <th>0</th>\n",
       "      <td>0.920</td>\n",
       "      <td>no_enrollment</td>\n",
       "      <td>Graduate</td>\n",
       "      <td>20.0</td>\n",
       "      <td>36.0</td>\n",
       "    </tr>\n",
       "    <tr>\n",
       "      <th>1</th>\n",
       "      <td>0.776</td>\n",
       "      <td>no_enrollment</td>\n",
       "      <td>Graduate</td>\n",
       "      <td>15.0</td>\n",
       "      <td>47.0</td>\n",
       "    </tr>\n",
       "    <tr>\n",
       "      <th>2</th>\n",
       "      <td>0.624</td>\n",
       "      <td>Full time course</td>\n",
       "      <td>Graduate</td>\n",
       "      <td>5.0</td>\n",
       "      <td>83.0</td>\n",
       "    </tr>\n",
       "    <tr>\n",
       "      <th>4</th>\n",
       "      <td>0.767</td>\n",
       "      <td>no_enrollment</td>\n",
       "      <td>Masters</td>\n",
       "      <td>20.0</td>\n",
       "      <td>8.0</td>\n",
       "    </tr>\n",
       "    <tr>\n",
       "      <th>5</th>\n",
       "      <td>0.764</td>\n",
       "      <td>Part time course</td>\n",
       "      <td>Graduate</td>\n",
       "      <td>11.0</td>\n",
       "      <td>24.0</td>\n",
       "    </tr>\n",
       "    <tr>\n",
       "      <th>...</th>\n",
       "      <td>...</td>\n",
       "      <td>...</td>\n",
       "      <td>...</td>\n",
       "      <td>...</td>\n",
       "      <td>...</td>\n",
       "    </tr>\n",
       "    <tr>\n",
       "      <th>19153</th>\n",
       "      <td>0.878</td>\n",
       "      <td>no_enrollment</td>\n",
       "      <td>Graduate</td>\n",
       "      <td>14.0</td>\n",
       "      <td>42.0</td>\n",
       "    </tr>\n",
       "    <tr>\n",
       "      <th>19154</th>\n",
       "      <td>0.920</td>\n",
       "      <td>no_enrollment</td>\n",
       "      <td>Graduate</td>\n",
       "      <td>14.0</td>\n",
       "      <td>52.0</td>\n",
       "    </tr>\n",
       "    <tr>\n",
       "      <th>19155</th>\n",
       "      <td>0.920</td>\n",
       "      <td>no_enrollment</td>\n",
       "      <td>Graduate</td>\n",
       "      <td>20.0</td>\n",
       "      <td>44.0</td>\n",
       "    </tr>\n",
       "    <tr>\n",
       "      <th>19156</th>\n",
       "      <td>0.802</td>\n",
       "      <td>no_enrollment</td>\n",
       "      <td>High School</td>\n",
       "      <td>0.0</td>\n",
       "      <td>97.0</td>\n",
       "    </tr>\n",
       "    <tr>\n",
       "      <th>19157</th>\n",
       "      <td>0.855</td>\n",
       "      <td>no_enrollment</td>\n",
       "      <td>Primary School</td>\n",
       "      <td>2.0</td>\n",
       "      <td>127.0</td>\n",
       "    </tr>\n",
       "  </tbody>\n",
       "</table>\n",
       "<p>17182 rows × 5 columns</p>\n",
       "</div>"
      ],
      "text/plain": [
       "       city_development_index enrolled_university education_level  experience  \\\n",
       "0                       0.920       no_enrollment        Graduate        20.0   \n",
       "1                       0.776       no_enrollment        Graduate        15.0   \n",
       "2                       0.624    Full time course        Graduate         5.0   \n",
       "4                       0.767       no_enrollment         Masters        20.0   \n",
       "5                       0.764    Part time course        Graduate        11.0   \n",
       "...                       ...                 ...             ...         ...   \n",
       "19153                   0.878       no_enrollment        Graduate        14.0   \n",
       "19154                   0.920       no_enrollment        Graduate        14.0   \n",
       "19155                   0.920       no_enrollment        Graduate        20.0   \n",
       "19156                   0.802       no_enrollment     High School         0.0   \n",
       "19157                   0.855       no_enrollment  Primary School         2.0   \n",
       "\n",
       "       training_hours  \n",
       "0                36.0  \n",
       "1                47.0  \n",
       "2                83.0  \n",
       "4                 8.0  \n",
       "5                24.0  \n",
       "...               ...  \n",
       "19153            42.0  \n",
       "19154            52.0  \n",
       "19155            44.0  \n",
       "19156            97.0  \n",
       "19157           127.0  \n",
       "\n",
       "[17182 rows x 5 columns]"
      ]
     },
     "execution_count": 35,
     "metadata": {},
     "output_type": "execute_result"
    }
   ],
   "source": [
    "ds_job_dropnull"
   ]
  },
  {
   "cell_type": "code",
   "execution_count": 36,
   "id": "9229586a",
   "metadata": {},
   "outputs": [
    {
     "data": {
      "text/plain": [
       "<AxesSubplot:>"
      ]
     },
     "execution_count": 36,
     "metadata": {},
     "output_type": "execute_result"
    },
    {
     "data": {
      "image/png": "[encoded data removed]",
      "text/plain": [
       "<Figure size 720x360 with 1 Axes>"
      ]
     },
     "metadata": {
      "needs_background": "light"
     },
     "output_type": "display_data"
    }
   ],
   "source": [
    "# Checking change in distribution pre and post cca\n",
    "fig, (ax1) = plt.subplots(ncols = 1, figsize = (10,5))\n",
    "ds_job['training_hours'].hist(bins = 20, color = 'red', ax = ax1)\n",
    "ds_job_dropnull['training_hours'].hist(bins = 20, color = 'green', ax = ax1)\n",
    "\n",
    "# We can see that the distribution remains the same"
   ]
  },
  {
   "cell_type": "code",
   "execution_count": 37,
   "id": "6327131c",
   "metadata": {},
   "outputs": [
    {
     "data": {
      "text/plain": [
       "<AxesSubplot:>"
      ]
     },
     "execution_count": 37,
     "metadata": {},
     "output_type": "execute_result"
    },
    {
     "data": {
      "image/png": "[encoded data removed]",
      "text/plain": [
       "<Figure size 720x360 with 1 Axes>"
      ]
     },
     "metadata": {
      "needs_background": "light"
     },
     "output_type": "display_data"
    }
   ],
   "source": [
    "# Checking change in distribution pre and post cca\n",
    "fig, (ax1) = plt.subplots(ncols = 1, figsize = (10,5))\n",
    "ds_job['city_development_index'].hist(bins = 20, color = 'red', ax = ax1)\n",
    "ds_job_dropnull['city_development_index'].hist(bins = 20, color = 'green', ax = ax1)\n",
    "\n",
    "# We can see that the distribution remains the same"
   ]
  },
  {
   "cell_type": "code",
   "execution_count": 38,
   "id": "102838cd",
   "metadata": {},
   "outputs": [
    {
     "data": {
      "text/plain": [
       "<AxesSubplot:>"
      ]
     },
     "execution_count": 38,
     "metadata": {},
     "output_type": "execute_result"
    },
    {
     "data": {
      "image/png": "[encoded data removed]",
      "text/plain": [
       "<Figure size 720x360 with 1 Axes>"
      ]
     },
     "metadata": {
      "needs_background": "light"
     },
     "output_type": "display_data"
    }
   ],
   "source": [
    "# Checking change in distribution pre and post cca\n",
    "fig, (ax1) = plt.subplots(ncols = 1, figsize = (10,5))\n",
    "ds_job['experience'].hist(bins = 20, color = 'red', ax = ax1)\n",
    "ds_job_dropnull['experience'].hist(bins = 20, color = 'green', ax = ax1)\n",
    "\n",
    "# We can see that the distribution remains the same apart from some little distractions"
   ]
  },
  {
   "cell_type": "markdown",
   "id": "462861f0",
   "metadata": {},
   "source": [
    "For categorical variables, the % of each category in the column should not change much before and after the application of cca"
   ]
  },
  {
   "cell_type": "code",
   "execution_count": 53,
   "id": "3633698d",
   "metadata": {},
   "outputs": [],
   "source": [
    "df_comp = pd.concat([ds_job_dropnull['enrolled_university'].value_counts()/len(ds_job['enrolled_university'])*100,ds_job['enrolled_university'].value_counts()/len(ds_job['enrolled_university'])*100], axis =1)\n",
    "\n",
    "df_comp.columns = ['cca', 'normal']"
   ]
  },
  {
   "cell_type": "code",
   "execution_count": 58,
   "id": "dc0f93e8",
   "metadata": {},
   "outputs": [],
   "source": [
    "df_comp = pd.concat([ds_job_dropnull['education_level'].value_counts()/len(ds_job['education_level'])*100,ds_job['education_level'].value_counts()/len(ds_job['education_level'])*100], axis =1)\n",
    "\n",
    "df_comp.columns = ['cca', 'normal']"
   ]
  },
  {
   "cell_type": "code",
   "execution_count": 59,
   "id": "8dbd9c48",
   "metadata": {},
   "outputs": [
    {
     "data": {
      "text/html": [
       "<div>\n",
       "<style scoped>\n",
       "    .dataframe tbody tr th:only-of-type {\n",
       "        vertical-align: middle;\n",
       "    }\n",
       "\n",
       "    .dataframe tbody tr th {\n",
       "        vertical-align: top;\n",
       "    }\n",
       "\n",
       "    .dataframe thead th {\n",
       "        text-align: right;\n",
       "    }\n",
       "</style>\n",
       "<table border=\"1\" class=\"dataframe\">\n",
       "  <thead>\n",
       "    <tr style=\"text-align: right;\">\n",
       "      <th></th>\n",
       "      <th>cca</th>\n",
       "      <th>normal</th>\n",
       "    </tr>\n",
       "  </thead>\n",
       "  <tbody>\n",
       "    <tr>\n",
       "      <th>Graduate</th>\n",
       "      <td>55.590354</td>\n",
       "      <td>60.538678</td>\n",
       "    </tr>\n",
       "    <tr>\n",
       "      <th>Masters</th>\n",
       "      <td>20.993841</td>\n",
       "      <td>22.763336</td>\n",
       "    </tr>\n",
       "    <tr>\n",
       "      <th>High School</th>\n",
       "      <td>9.630442</td>\n",
       "      <td>10.528239</td>\n",
       "    </tr>\n",
       "    <tr>\n",
       "      <th>Phd</th>\n",
       "      <td>1.983506</td>\n",
       "      <td>2.160977</td>\n",
       "    </tr>\n",
       "    <tr>\n",
       "      <th>Primary School</th>\n",
       "      <td>1.487629</td>\n",
       "      <td>1.607683</td>\n",
       "    </tr>\n",
       "  </tbody>\n",
       "</table>\n",
       "</div>"
      ],
      "text/plain": [
       "                      cca     normal\n",
       "Graduate        55.590354  60.538678\n",
       "Masters         20.993841  22.763336\n",
       "High School      9.630442  10.528239\n",
       "Phd              1.983506   2.160977\n",
       "Primary School   1.487629   1.607683"
      ]
     },
     "execution_count": 59,
     "metadata": {},
     "output_type": "execute_result"
    }
   ],
   "source": [
    "df_comp"
   ]
  },
  {
   "cell_type": "code",
   "execution_count": null,
   "id": "8c24d06e",
   "metadata": {},
   "outputs": [],
   "source": []
  }
 ],
 "metadata": {
  "kernelspec": {
   "display_name": "Python 3 (ipykernel)",
   "language": "python",
   "name": "python3"
  },
  "language_info": {
   "codemirror_mode": {
    "name": "ipython",
    "version": 3
   },
   "file_extension": ".py",
   "mimetype": "text/x-python",
   "name": "python",
   "nbconvert_exporter": "python",
   "pygments_lexer": "ipython3",
   "version": "3.9.7"
  }
 },
 "nbformat": 4,
 "nbformat_minor": 5
}
