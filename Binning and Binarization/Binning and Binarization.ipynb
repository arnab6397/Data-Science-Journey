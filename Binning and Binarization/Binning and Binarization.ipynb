{
 "cells": [
  {
   "cell_type": "markdown",
   "id": "d5ab177a",
   "metadata": {},
   "source": [
    "# Encoding Numerical Data"
   ]
  },
  {
   "cell_type": "raw",
   "id": "4845f64e",
   "metadata": {},
   "source": [
    "Why to convert numerical data into categorical?\n",
    "Sometimes the range of data in some numerical columns is very very high, that leads the distribution to be highly right or lefy skewed, which negatively impacts the model\n",
    "\n",
    "There are 2 mrthods to do this:\n",
    "1. Discretization (also called binning)\n",
    "2. Binarization"
   ]
  },
  {
   "cell_type": "raw",
   "id": "acf0a77e",
   "metadata": {},
   "source": [
    "Discretization (also called binning) is a process of transforming a continuous variable into discrete variables by creating a set of continuous intervals that spans the range of the variables' values.\n",
    "\n",
    "We create regular intervals and then count the number of values appearing in the same. Binning also helps to resolve issues with outliers.\n",
    "It improves the value spread of the data.\n",
    "\n",
    "Types of binning:\n",
    "1. Unsupervised binning\n",
    "   i)  Equal Width/ Uniform binning\n",
    "   ii) Equal Freq/ Quantile binning\n",
    "   iii)K Means Binning\n",
    "2. Supervised binning\n",
    "   i) Decision Tree Binnning\n",
    "3. Custom binning"
   ]
  },
  {
   "cell_type": "raw",
   "id": "d7650aca",
   "metadata": {},
   "source": [
    "1. i) We manually mention the number of bins that we need. Say 10\n",
    "Now, we use a formula (Max-Min)/#Bins\n",
    "Say Max = 100, Min = 0\n",
    "So we get 10.\n",
    "The bins then would look like: 0-10, 10-20......90-100\n",
    "We then make a histogram based on the # values in each bin\n",
    "\n",
    "1.This handles outliers\n",
    "2.There is no change in the spread of data"
   ]
  },
  {
   "cell_type": "raw",
   "id": "f4a2f82d",
   "metadata": {},
   "source": [
    "1. ii) We manually mention the number of bins we need. Say 10\n",
    "Now, the values will be divided into intervals in such a way that 10% of the data lies in the range of the bins\n",
    "\n",
    "Say, we have values from 0-100\n",
    "0-16 - 10% of data lies in between 0 to 16\n",
    "16-20 - 10% of data lies in between 16 to 20, and 20% of the data lies between 0-20\n",
    ".\n",
    ".\n",
    ".\n",
    ".\n",
    ".\n",
    ".\n",
    "The width of the intervals are not fixed. But the number of values falling in the bins is constant\n",
    "\n",
    "1.This makes the spread uniform\n",
    "2.Handles outliers used"
   ]
  },
  {
   "cell_type": "raw",
   "id": "e9050589",
   "metadata": {},
   "source": [
    "1. iii)This creates clusters in n-dimentions and throws them into bins. This is used in data where the data is in clusters\n",
    "\n",
    "If we say, we need 5 bins,called centroid. Read K Means clustering method......."
   ]
  },
  {
   "cell_type": "code",
   "execution_count": 74,
   "id": "6aa183fc",
   "metadata": {},
   "outputs": [],
   "source": [
    "import numpy as np\n",
    "import pandas as pd\n",
    "from sklearn.model_selection import train_test_split,cross_val_score\n",
    "from sklearn.tree import DecisionTreeClassifier\n",
    "\n",
    "from sklearn.metrics import accuracy_score\n",
    "\n",
    "from sklearn.compose import ColumnTransformer\n",
    "import matplotlib.pyplot as plt\n",
    "\n",
    "\n",
    "from sklearn.preprocessing import KBinsDiscretizer\n"
   ]
  },
  {
   "cell_type": "code",
   "execution_count": 75,
   "id": "2db9f51b",
   "metadata": {},
   "outputs": [
    {
     "data": {
      "text/plain": [
       "'/Users/arnabmaji/Documents/Documents/CSV Raw Data'"
      ]
     },
     "execution_count": 75,
     "metadata": {},
     "output_type": "execute_result"
    }
   ],
   "source": [
    "import os\n",
    "os.chdir('/Users/arnabmaji/Documents/Documents/CSV Raw Data')\n",
    "os.getcwd()"
   ]
  },
  {
   "cell_type": "code",
   "execution_count": 76,
   "id": "c9db5c80",
   "metadata": {
    "scrolled": true
   },
   "outputs": [],
   "source": [
    "df = pd.read_csv('titanic.csv', usecols = ['Age','Fare','Survived']).reset_index(drop = True)"
   ]
  },
  {
   "cell_type": "code",
   "execution_count": 77,
   "id": "7a8484a0",
   "metadata": {},
   "outputs": [],
   "source": [
    "df.dropna(inplace = True)"
   ]
  },
  {
   "cell_type": "code",
   "execution_count": 78,
   "id": "1d32d428",
   "metadata": {},
   "outputs": [
    {
     "data": {
      "text/html": [
       "<div>\n",
       "<style scoped>\n",
       "    .dataframe tbody tr th:only-of-type {\n",
       "        vertical-align: middle;\n",
       "    }\n",
       "\n",
       "    .dataframe tbody tr th {\n",
       "        vertical-align: top;\n",
       "    }\n",
       "\n",
       "    .dataframe thead th {\n",
       "        text-align: right;\n",
       "    }\n",
       "</style>\n",
       "<table border=\"1\" class=\"dataframe\">\n",
       "  <thead>\n",
       "    <tr style=\"text-align: right;\">\n",
       "      <th></th>\n",
       "      <th>Survived</th>\n",
       "      <th>Age</th>\n",
       "      <th>Fare</th>\n",
       "    </tr>\n",
       "  </thead>\n",
       "  <tbody>\n",
       "    <tr>\n",
       "      <th>207</th>\n",
       "      <td>1</td>\n",
       "      <td>26.0</td>\n",
       "      <td>18.7875</td>\n",
       "    </tr>\n",
       "    <tr>\n",
       "      <th>841</th>\n",
       "      <td>0</td>\n",
       "      <td>16.0</td>\n",
       "      <td>10.5000</td>\n",
       "    </tr>\n",
       "    <tr>\n",
       "      <th>460</th>\n",
       "      <td>1</td>\n",
       "      <td>48.0</td>\n",
       "      <td>26.5500</td>\n",
       "    </tr>\n",
       "    <tr>\n",
       "      <th>276</th>\n",
       "      <td>0</td>\n",
       "      <td>45.0</td>\n",
       "      <td>7.7500</td>\n",
       "    </tr>\n",
       "    <tr>\n",
       "      <th>852</th>\n",
       "      <td>0</td>\n",
       "      <td>9.0</td>\n",
       "      <td>15.2458</td>\n",
       "    </tr>\n",
       "  </tbody>\n",
       "</table>\n",
       "</div>"
      ],
      "text/plain": [
       "     Survived   Age     Fare\n",
       "207         1  26.0  18.7875\n",
       "841         0  16.0  10.5000\n",
       "460         1  48.0  26.5500\n",
       "276         0  45.0   7.7500\n",
       "852         0   9.0  15.2458"
      ]
     },
     "execution_count": 78,
     "metadata": {},
     "output_type": "execute_result"
    }
   ],
   "source": [
    "df.sample(5)"
   ]
  },
  {
   "cell_type": "code",
   "execution_count": 79,
   "id": "2a68e3da",
   "metadata": {},
   "outputs": [],
   "source": [
    "X_train, X_test, y_train, y_test = train_test_split(df.drop('Survived', axis = 1), df[['Survived']], test_size = 0.2, random_state = 42)"
   ]
  },
  {
   "cell_type": "code",
   "execution_count": 80,
   "id": "fc6a3c72",
   "metadata": {},
   "outputs": [],
   "source": [
    "dtc1 = DecisionTreeClassifier()"
   ]
  },
  {
   "cell_type": "code",
   "execution_count": 81,
   "id": "a04d7bfd",
   "metadata": {},
   "outputs": [
    {
     "data": {
      "text/plain": [
       "DecisionTreeClassifier()"
      ]
     },
     "execution_count": 81,
     "metadata": {},
     "output_type": "execute_result"
    }
   ],
   "source": [
    "dtc1.fit(X_train, y_train)"
   ]
  },
  {
   "cell_type": "code",
   "execution_count": 82,
   "id": "55424830",
   "metadata": {},
   "outputs": [],
   "source": [
    "y_pred = dtc1.predict(X_test)"
   ]
  },
  {
   "cell_type": "code",
   "execution_count": 83,
   "id": "b186bb4d",
   "metadata": {},
   "outputs": [
    {
     "data": {
      "text/plain": [
       "0.6293706293706294"
      ]
     },
     "execution_count": 83,
     "metadata": {},
     "output_type": "execute_result"
    }
   ],
   "source": [
    "accuracy_score(y_test, y_pred)"
   ]
  },
  {
   "cell_type": "code",
   "execution_count": 84,
   "id": "aa1f456a",
   "metadata": {},
   "outputs": [
    {
     "data": {
      "text/plain": [
       "0.6288928012519561"
      ]
     },
     "execution_count": 84,
     "metadata": {},
     "output_type": "execute_result"
    }
   ],
   "source": [
    "np.mean(cross_val_score(DecisionTreeClassifier(),df.drop('Survived',axis = 1), df[['Survived']], cv=10, scoring='accuracy'))"
   ]
  },
  {
   "cell_type": "code",
   "execution_count": 85,
   "id": "bcf1ad8b",
   "metadata": {},
   "outputs": [],
   "source": [
    "kbin_age = KBinsDiscretizer(n_bins=10,encode='ordinal',strategy='quantile')\n",
    "kbin_fare = KBinsDiscretizer(n_bins=10,encode='ordinal',strategy='quantile')"
   ]
  },
  {
   "cell_type": "code",
   "execution_count": 86,
   "id": "18f4e3bf",
   "metadata": {},
   "outputs": [],
   "source": [
    "trf = ColumnTransformer([('first',kbin_age,[0]),('second',kbin_fare, [1])])"
   ]
  },
  {
   "cell_type": "code",
   "execution_count": 87,
   "id": "df9db4d0",
   "metadata": {},
   "outputs": [],
   "source": [
    "X_train_trnasformed = trf.fit_transform(X_train)\n",
    "X_test_trnasformed = trf.transform(X_test)"
   ]
  },
  {
   "cell_type": "code",
   "execution_count": 88,
   "id": "7cd3ca7d",
   "metadata": {},
   "outputs": [
    {
     "data": {
      "text/plain": [
       "array([array([ 0.42, 14.  , 19.  , 22.  , 25.  , 28.5 , 32.  , 36.  , 42.  ,\n",
       "              50.  , 80.  ])                                                ],\n",
       "      dtype=object)"
      ]
     },
     "execution_count": 88,
     "metadata": {},
     "output_type": "execute_result"
    }
   ],
   "source": [
    "trf.named_transformers_['first'].bin_edges_"
   ]
  },
  {
   "cell_type": "code",
   "execution_count": 89,
   "id": "f3b202d8",
   "metadata": {},
   "outputs": [
    {
     "data": {
      "text/plain": [
       "array([array([  0.    ,   7.75  ,   7.8958,   9.225 ,  13.    ,  15.75  ,\n",
       "               26.    ,  29.125 ,  51.4792,  82.1708, 512.3292])         ],\n",
       "      dtype=object)"
      ]
     },
     "execution_count": 89,
     "metadata": {},
     "output_type": "execute_result"
    }
   ],
   "source": [
    "trf.named_transformers_['second'].bin_edges_"
   ]
  },
  {
   "cell_type": "code",
   "execution_count": 90,
   "id": "dd2640bb",
   "metadata": {},
   "outputs": [],
   "source": [
    "dtc2 = DecisionTreeClassifier()\n",
    "dtc2.fit(X_train_trnasformed, y_train)\n",
    "y_pred2 = dtc2.predict(X_test_trnasformed)"
   ]
  },
  {
   "cell_type": "code",
   "execution_count": 91,
   "id": "99009cd4",
   "metadata": {},
   "outputs": [
    {
     "data": {
      "text/plain": [
       "0.6223776223776224"
      ]
     },
     "execution_count": 91,
     "metadata": {},
     "output_type": "execute_result"
    }
   ],
   "source": [
    "accuracy_score(y_test,y_pred2)"
   ]
  },
  {
   "cell_type": "code",
   "execution_count": 94,
   "id": "f159aadd",
   "metadata": {},
   "outputs": [],
   "source": [
    "def discretisize(bins,strategy):\n",
    "    kbin_age = KBinsDiscretizer(n_bins=bins,encode='ordinal',strategy=strategy)\n",
    "    kbin_fare = KBinsDiscretizer(n_bins=bins,encode='ordinal',strategy=strategy)\n",
    "    \n",
    "    ct_binarization = ColumnTransformer([('first',kbin_age,[0]),('second',kbin_fare,[1])])\n",
    "    \n",
    "    X_train_trnasformed = trf.fit_transform(X_train)\n",
    "    X_test_trnasformed = trf.transform(X_test)\n",
    "    \n",
    "    accuracy_score(y_test,y_pred2)\n",
    "#     X_train = pd.DataFrame(X_train, columns = X_train.columns)\n",
    "    X_train_trnasformed = pd.DataFrame(X_train_trnasformed, columns = X_train.columns)\n",
    "\n",
    "#     fig, (ax1,ax2) = plt.subplots(ncols = 2,nrows = 2, figsize = (12,5))\n",
    "    plt.subplot(122)\n",
    "    plt.hist(X_train_trnasformed['Age'])\n",
    "    plt.subplot(121)\n",
    "    plt.hist(X_train['Age'], color='red')\n",
    "    \n",
    "#     plt.subplot(131)\n",
    "#     plt.hist(X_train['Fare'], color='red')\n",
    "    "
   ]
  },
  {
   "cell_type": "code",
   "execution_count": 72,
   "id": "dfb4c494",
   "metadata": {},
   "outputs": [
    {
     "data": {
      "image/png": "[encoded data removed]",
      "text/plain": [
       "<Figure size 864x360 with 2 Axes>"
      ]
     },
     "metadata": {
      "needs_background": "light"
     },
     "output_type": "display_data"
    }
   ],
   "source": [
    "discretisize(12,'uniform')"
   ]
  },
  {
   "cell_type": "code",
   "execution_count": null,
   "id": "4bdf96bf",
   "metadata": {},
   "outputs": [],
   "source": []
  }
 ],
 "metadata": {
  "kernelspec": {
   "display_name": "Python 3 (ipykernel)",
   "language": "python",
   "name": "python3"
  },
  "language_info": {
   "codemirror_mode": {
    "name": "ipython",
    "version": 3
   },
   "file_extension": ".py",
   "mimetype": "text/x-python",
   "name": "python",
   "nbconvert_exporter": "python",
   "pygments_lexer": "ipython3",
   "version": "3.9.7"
  }
 },
 "nbformat": 4,
 "nbformat_minor": 5
}
